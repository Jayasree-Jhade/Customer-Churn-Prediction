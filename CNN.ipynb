{
 "cells": [
  {
   "cell_type": "code",
   "execution_count": 1,
   "id": "0fe1c824-e68e-4c61-9495-14d15af501b3",
   "metadata": {},
   "outputs": [],
   "source": [
    "import tensorflow as tf\n",
    "import keras"
   ]
  },
  {
   "cell_type": "code",
   "execution_count": 7,
   "id": "a6bf3028-0837-4799-a7df-b00b427ac6c3",
   "metadata": {},
   "outputs": [],
   "source": [
    "from tensorflow.keras.preprocessing.image import ImageDataGenerator"
   ]
  },
  {
   "cell_type": "code",
   "execution_count": 9,
   "id": "527a862a-7376-4fbb-a306-42399a8a3c35",
   "metadata": {},
   "outputs": [],
   "source": [
    "train_gen=ImageDataGenerator(rescale=1/255,shear_range=0.2,zoom_range=0.2)"
   ]
  },
  {
   "cell_type": "code",
   "execution_count": 17,
   "id": "7e2df09a-04e1-467c-a088-23f42fb0fde6",
   "metadata": {},
   "outputs": [
    {
     "data": {
      "text/plain": [
       "'D:\\\\Datascience clases by SRK\\\\21. CNN'"
      ]
     },
     "execution_count": 17,
     "metadata": {},
     "output_type": "execute_result"
    }
   ],
   "source": [
    "pwd"
   ]
  },
  {
   "cell_type": "code",
   "execution_count": 19,
   "id": "a68c170f-cb3d-4c75-9afd-15055802c92e",
   "metadata": {},
   "outputs": [
    {
     "name": "stdout",
     "output_type": "stream",
     "text": [
      "Found 8048 images belonging to 2 classes.\n"
     ]
    }
   ],
   "source": [
    "training_set=train_gen.flow_from_directory(\"dataset/dataset/training_set\",target_size=(64,64),class_mode=\"binary\")"
   ]
  },
  {
   "cell_type": "code",
   "execution_count": 21,
   "id": "1affd6f9-f419-48be-ae18-f9dbbc201a3c",
   "metadata": {},
   "outputs": [
    {
     "data": {
      "text/plain": [
       "{'cats': 0, 'dogs': 1}"
      ]
     },
     "execution_count": 21,
     "metadata": {},
     "output_type": "execute_result"
    }
   ],
   "source": [
    "training_set.class_indices"
   ]
  },
  {
   "cell_type": "code",
   "execution_count": 25,
   "id": "e4cfd5a6-4780-4a39-80bc-418d4c5d86e9",
   "metadata": {},
   "outputs": [],
   "source": [
    "test_datagen=ImageDataGenerator(rescale=1/255,shear_range=0.2,zoom_range=0.2)"
   ]
  },
  {
   "cell_type": "code",
   "execution_count": 29,
   "id": "c0cd6042-d9fc-4249-900e-e5175110fb0e",
   "metadata": {},
   "outputs": [
    {
     "name": "stdout",
     "output_type": "stream",
     "text": [
      "Found 2000 images belonging to 2 classes.\n"
     ]
    }
   ],
   "source": [
    "test_set=test_datagen.flow_from_directory(\"dataset/dataset/test_set\",target_size=(64,64),class_mode=\"binary\")"
   ]
  },
  {
   "cell_type": "markdown",
   "id": "41cee586-4b7d-49a8-8838-c2c34d45d649",
   "metadata": {},
   "source": [
    "# Modelling Convolution neural networks\n",
    "\n",
    "* Initilising the CNN"
   ]
  },
  {
   "cell_type": "code",
   "execution_count": 31,
   "id": "76f6a2b7-be03-483a-9fae-38f4cc88817a",
   "metadata": {},
   "outputs": [],
   "source": [
    "from keras.models import Sequential\n",
    "Classifier=Sequential()"
   ]
  },
  {
   "cell_type": "markdown",
   "id": "7170c6de-7667-47de-8f45-98ddfbb89fa7",
   "metadata": {},
   "source": [
    "## step 1 : Convolution"
   ]
  },
  {
   "cell_type": "code",
   "execution_count": 35,
   "id": "fe593e60-b0c3-4652-aa7b-c7c41ccb30c2",
   "metadata": {},
   "outputs": [
    {
     "name": "stderr",
     "output_type": "stream",
     "text": [
      "C:\\Users\\Welcome\\anaconda3\\Lib\\site-packages\\keras\\src\\layers\\convolutional\\base_conv.py:107: UserWarning: Do not pass an `input_shape`/`input_dim` argument to a layer. When using Sequential models, prefer using an `Input(shape)` object as the first layer in the model instead.\n",
      "  super().__init__(activity_regularizer=activity_regularizer, **kwargs)\n"
     ]
    }
   ],
   "source": [
    "from keras.layers import Conv2D\n",
    "Classifier.add(Conv2D(input_shape=[64,64,3],filters=32,kernel_size=3,activation=\"relu\"))"
   ]
  },
  {
   "cell_type": "markdown",
   "id": "b039368b-d652-4397-a6cb-92bba39d8fc3",
   "metadata": {},
   "source": [
    "## Step 2 : Maxpooling"
   ]
  },
  {
   "cell_type": "code",
   "execution_count": 37,
   "id": "f37c4b17-7a82-4056-820e-e9932ee35c21",
   "metadata": {},
   "outputs": [],
   "source": [
    "from keras.layers import MaxPooling2D\n",
    "Classifier.add(MaxPooling2D(pool_size=2,strides=2))"
   ]
  },
  {
   "cell_type": "markdown",
   "id": "9374770d-7aff-44f3-a533-c64d32e58ab1",
   "metadata": {},
   "source": [
    "## Step 3: Flattening"
   ]
  },
  {
   "cell_type": "code",
   "execution_count": 39,
   "id": "9047f1e1-1a25-496a-8e7a-32d8d7e31556",
   "metadata": {},
   "outputs": [],
   "source": [
    "from keras.layers import Flatten\n",
    "Classifier.add(Flatten())"
   ]
  },
  {
   "cell_type": "markdown",
   "id": "28709a5c-9e3c-45b1-9fb8-de1a48f7fc6a",
   "metadata": {},
   "source": [
    "## Step 4: Full connection"
   ]
  },
  {
   "cell_type": "code",
   "execution_count": 41,
   "id": "5ac96858-e42f-495e-b48b-ab4d6a050152",
   "metadata": {},
   "outputs": [],
   "source": [
    "from keras.layers import Dense\n",
    "Classifier.add(Dense(units=128,activation=\"relu\"))\n",
    "Classifier.add(Dense(units=1,activation=\"sigmoid\"))"
   ]
  },
  {
   "cell_type": "markdown",
   "id": "3717e6a7-ca8f-43cf-9ee4-e7a09cf56491",
   "metadata": {},
   "source": [
    "##### training the CNN model with train data and testing the model with test data"
   ]
  },
  {
   "cell_type": "code",
   "execution_count": 43,
   "id": "8ee11f7a-7384-4f81-8916-b5f6ba1949dc",
   "metadata": {},
   "outputs": [],
   "source": [
    "Classifier.compile(optimizer=\"adam\",loss=\"binary_crossentropy\",metrics=[\"accuracy\"])"
   ]
  },
  {
   "cell_type": "code",
   "execution_count": 47,
   "id": "3f61ee85-0d14-46e6-9f3a-993e597231f5",
   "metadata": {},
   "outputs": [
    {
     "name": "stdout",
     "output_type": "stream",
     "text": [
      "Epoch 1/25\n"
     ]
    },
    {
     "name": "stderr",
     "output_type": "stream",
     "text": [
      "C:\\Users\\Welcome\\anaconda3\\Lib\\site-packages\\keras\\src\\trainers\\data_adapters\\py_dataset_adapter.py:121: UserWarning: Your `PyDataset` class should call `super().__init__(**kwargs)` in its constructor. `**kwargs` can include `workers`, `use_multiprocessing`, `max_queue_size`. Do not pass these arguments to `fit()`, as they will be ignored.\n",
      "  self._warn_if_super_not_called()\n"
     ]
    },
    {
     "name": "stdout",
     "output_type": "stream",
     "text": [
      "\u001b[1m252/252\u001b[0m \u001b[32m━━━━━━━━━━━━━━━━━━━━\u001b[0m\u001b[37m\u001b[0m \u001b[1m182s\u001b[0m 676ms/step - accuracy: 0.5499 - loss: 0.8323 - val_accuracy: 0.6880 - val_loss: 0.6086\n",
      "Epoch 2/25\n",
      "\u001b[1m252/252\u001b[0m \u001b[32m━━━━━━━━━━━━━━━━━━━━\u001b[0m\u001b[37m\u001b[0m \u001b[1m75s\u001b[0m 295ms/step - accuracy: 0.6797 - loss: 0.6015 - val_accuracy: 0.6780 - val_loss: 0.5936\n",
      "Epoch 3/25\n",
      "\u001b[1m252/252\u001b[0m \u001b[32m━━━━━━━━━━━━━━━━━━━━\u001b[0m\u001b[37m\u001b[0m \u001b[1m76s\u001b[0m 297ms/step - accuracy: 0.7024 - loss: 0.5684 - val_accuracy: 0.7050 - val_loss: 0.5605\n",
      "Epoch 4/25\n",
      "\u001b[1m252/252\u001b[0m \u001b[32m━━━━━━━━━━━━━━━━━━━━\u001b[0m\u001b[37m\u001b[0m \u001b[1m85s\u001b[0m 331ms/step - accuracy: 0.7412 - loss: 0.5252 - val_accuracy: 0.7325 - val_loss: 0.5486\n",
      "Epoch 5/25\n",
      "\u001b[1m252/252\u001b[0m \u001b[32m━━━━━━━━━━━━━━━━━━━━\u001b[0m\u001b[37m\u001b[0m \u001b[1m91s\u001b[0m 355ms/step - accuracy: 0.7373 - loss: 0.5142 - val_accuracy: 0.7170 - val_loss: 0.5501\n",
      "Epoch 6/25\n",
      "\u001b[1m252/252\u001b[0m \u001b[32m━━━━━━━━━━━━━━━━━━━━\u001b[0m\u001b[37m\u001b[0m \u001b[1m82s\u001b[0m 319ms/step - accuracy: 0.7564 - loss: 0.5018 - val_accuracy: 0.7035 - val_loss: 0.5762\n",
      "Epoch 7/25\n",
      "\u001b[1m252/252\u001b[0m \u001b[32m━━━━━━━━━━━━━━━━━━━━\u001b[0m\u001b[37m\u001b[0m \u001b[1m80s\u001b[0m 313ms/step - accuracy: 0.7563 - loss: 0.4925 - val_accuracy: 0.7385 - val_loss: 0.5323\n",
      "Epoch 8/25\n",
      "\u001b[1m252/252\u001b[0m \u001b[32m━━━━━━━━━━━━━━━━━━━━\u001b[0m\u001b[37m\u001b[0m \u001b[1m78s\u001b[0m 305ms/step - accuracy: 0.7749 - loss: 0.4629 - val_accuracy: 0.7365 - val_loss: 0.5452\n",
      "Epoch 9/25\n",
      "\u001b[1m252/252\u001b[0m \u001b[32m━━━━━━━━━━━━━━━━━━━━\u001b[0m\u001b[37m\u001b[0m \u001b[1m76s\u001b[0m 297ms/step - accuracy: 0.7683 - loss: 0.4757 - val_accuracy: 0.7285 - val_loss: 0.5459\n",
      "Epoch 10/25\n",
      "\u001b[1m252/252\u001b[0m \u001b[32m━━━━━━━━━━━━━━━━━━━━\u001b[0m\u001b[37m\u001b[0m \u001b[1m79s\u001b[0m 308ms/step - accuracy: 0.7826 - loss: 0.4484 - val_accuracy: 0.7290 - val_loss: 0.5559\n",
      "Epoch 11/25\n",
      "\u001b[1m252/252\u001b[0m \u001b[32m━━━━━━━━━━━━━━━━━━━━\u001b[0m\u001b[37m\u001b[0m \u001b[1m76s\u001b[0m 298ms/step - accuracy: 0.7871 - loss: 0.4446 - val_accuracy: 0.7515 - val_loss: 0.5287\n",
      "Epoch 12/25\n",
      "\u001b[1m252/252\u001b[0m \u001b[32m━━━━━━━━━━━━━━━━━━━━\u001b[0m\u001b[37m\u001b[0m \u001b[1m78s\u001b[0m 305ms/step - accuracy: 0.8107 - loss: 0.4153 - val_accuracy: 0.7335 - val_loss: 0.5401\n",
      "Epoch 13/25\n",
      "\u001b[1m252/252\u001b[0m \u001b[32m━━━━━━━━━━━━━━━━━━━━\u001b[0m\u001b[37m\u001b[0m \u001b[1m76s\u001b[0m 299ms/step - accuracy: 0.8063 - loss: 0.4138 - val_accuracy: 0.7460 - val_loss: 0.5532\n",
      "Epoch 14/25\n",
      "\u001b[1m252/252\u001b[0m \u001b[32m━━━━━━━━━━━━━━━━━━━━\u001b[0m\u001b[37m\u001b[0m \u001b[1m77s\u001b[0m 301ms/step - accuracy: 0.8164 - loss: 0.3964 - val_accuracy: 0.7415 - val_loss: 0.6196\n",
      "Epoch 15/25\n",
      "\u001b[1m252/252\u001b[0m \u001b[32m━━━━━━━━━━━━━━━━━━━━\u001b[0m\u001b[37m\u001b[0m \u001b[1m76s\u001b[0m 295ms/step - accuracy: 0.8221 - loss: 0.3903 - val_accuracy: 0.7390 - val_loss: 0.5777\n",
      "Epoch 16/25\n",
      "\u001b[1m252/252\u001b[0m \u001b[32m━━━━━━━━━━━━━━━━━━━━\u001b[0m\u001b[37m\u001b[0m \u001b[1m77s\u001b[0m 300ms/step - accuracy: 0.8382 - loss: 0.3647 - val_accuracy: 0.7555 - val_loss: 0.5546\n",
      "Epoch 17/25\n",
      "\u001b[1m252/252\u001b[0m \u001b[32m━━━━━━━━━━━━━━━━━━━━\u001b[0m\u001b[37m\u001b[0m \u001b[1m79s\u001b[0m 310ms/step - accuracy: 0.8399 - loss: 0.3630 - val_accuracy: 0.7555 - val_loss: 0.5540\n",
      "Epoch 18/25\n",
      "\u001b[1m252/252\u001b[0m \u001b[32m━━━━━━━━━━━━━━━━━━━━\u001b[0m\u001b[37m\u001b[0m \u001b[1m78s\u001b[0m 303ms/step - accuracy: 0.8537 - loss: 0.3401 - val_accuracy: 0.7460 - val_loss: 0.5588\n",
      "Epoch 19/25\n",
      "\u001b[1m252/252\u001b[0m \u001b[32m━━━━━━━━━━━━━━━━━━━━\u001b[0m\u001b[37m\u001b[0m \u001b[1m79s\u001b[0m 310ms/step - accuracy: 0.8555 - loss: 0.3244 - val_accuracy: 0.7460 - val_loss: 0.6111\n",
      "Epoch 20/25\n",
      "\u001b[1m252/252\u001b[0m \u001b[32m━━━━━━━━━━━━━━━━━━━━\u001b[0m\u001b[37m\u001b[0m \u001b[1m80s\u001b[0m 313ms/step - accuracy: 0.8724 - loss: 0.3045 - val_accuracy: 0.7470 - val_loss: 0.5587\n",
      "Epoch 21/25\n",
      "\u001b[1m252/252\u001b[0m \u001b[32m━━━━━━━━━━━━━━━━━━━━\u001b[0m\u001b[37m\u001b[0m \u001b[1m81s\u001b[0m 316ms/step - accuracy: 0.8710 - loss: 0.2967 - val_accuracy: 0.7480 - val_loss: 0.6243\n",
      "Epoch 22/25\n",
      "\u001b[1m252/252\u001b[0m \u001b[32m━━━━━━━━━━━━━━━━━━━━\u001b[0m\u001b[37m\u001b[0m \u001b[1m79s\u001b[0m 310ms/step - accuracy: 0.8737 - loss: 0.2852 - val_accuracy: 0.7545 - val_loss: 0.6406\n",
      "Epoch 23/25\n",
      "\u001b[1m252/252\u001b[0m \u001b[32m━━━━━━━━━━━━━━━━━━━━\u001b[0m\u001b[37m\u001b[0m \u001b[1m135s\u001b[0m 532ms/step - accuracy: 0.8813 - loss: 0.2719 - val_accuracy: 0.7435 - val_loss: 0.7055\n",
      "Epoch 24/25\n",
      "\u001b[1m252/252\u001b[0m \u001b[32m━━━━━━━━━━━━━━━━━━━━\u001b[0m\u001b[37m\u001b[0m \u001b[1m152s\u001b[0m 583ms/step - accuracy: 0.8730 - loss: 0.2891 - val_accuracy: 0.7415 - val_loss: 0.6555\n",
      "Epoch 25/25\n",
      "\u001b[1m252/252\u001b[0m \u001b[32m━━━━━━━━━━━━━━━━━━━━\u001b[0m\u001b[37m\u001b[0m \u001b[1m161s\u001b[0m 626ms/step - accuracy: 0.8913 - loss: 0.2472 - val_accuracy: 0.7405 - val_loss: 0.6589\n"
     ]
    },
    {
     "data": {
      "text/plain": [
       "<keras.src.callbacks.history.History at 0x1c77df58750>"
      ]
     },
     "execution_count": 47,
     "metadata": {},
     "output_type": "execute_result"
    }
   ],
   "source": [
    "Classifier.fit(x=training_set,validation_data=test_set,epochs=25)"
   ]
  },
  {
   "cell_type": "code",
   "execution_count": 49,
   "id": "9c974654-e84c-488c-8cbd-fbf6359d8994",
   "metadata": {},
   "outputs": [],
   "source": [
    "import numpy as np\n",
    "from PIL import Image"
   ]
  },
  {
   "cell_type": "code",
   "execution_count": 51,
   "id": "bb24c0c5-1faa-4785-8909-178fb3c6b9b2",
   "metadata": {},
   "outputs": [
    {
     "name": "stdout",
     "output_type": "stream",
     "text": [
      "\u001b[1m1/1\u001b[0m \u001b[32m━━━━━━━━━━━━━━━━━━━━\u001b[0m\u001b[37m\u001b[0m \u001b[1m1s\u001b[0m 835ms/step\n",
      "Dog\n"
     ]
    }
   ],
   "source": [
    "test_image=Image.open(\"dataset/dataset/single_prediction/cat_or_dog_1.jpg\")\n",
    "test_image=test_image.resize((64,64))\n",
    "test_image = np.array(test_image)\n",
    "test_image = np.expand_dims(test_image,axis=0)\n",
    "\n",
    "result=Classifier.predict(test_image)\n",
    "\n",
    "if result[0][0]==1:\n",
    "    print(\"Dog\")\n",
    "else:\n",
    "    print(\"cat\")"
   ]
  },
  {
   "cell_type": "code",
   "execution_count": null,
   "id": "9dd25ace-debd-43e2-9eb2-e5876ce1d647",
   "metadata": {},
   "outputs": [],
   "source": []
  }
 ],
 "metadata": {
  "kernelspec": {
   "display_name": "Python 3 (ipykernel)",
   "language": "python",
   "name": "python3"
  },
  "language_info": {
   "codemirror_mode": {
    "name": "ipython",
    "version": 3
   },
   "file_extension": ".py",
   "mimetype": "text/x-python",
   "name": "python",
   "nbconvert_exporter": "python",
   "pygments_lexer": "ipython3",
   "version": "3.11.7"
  }
 },
 "nbformat": 4,
 "nbformat_minor": 5
}
